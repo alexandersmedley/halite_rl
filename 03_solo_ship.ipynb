{
 "cells": [
  {
   "cell_type": "code",
   "execution_count": 1,
   "metadata": {},
   "outputs": [
    {
     "name": "stdout",
     "output_type": "stream",
     "text": [
      "Loading environment football failed: No module named 'gfootball'\n"
     ]
    },
    {
     "name": "stderr",
     "output_type": "stream",
     "text": [
      "WARNING:root:Argument blacklist is deprecated. Please use denylist.\n",
      "WARNING:root:Argument blacklist is deprecated. Please use denylist.\n"
     ]
    }
   ],
   "source": [
    "import numpy as np\n",
    "import pandas as pd\n",
    "import tensorflow as tf \n",
    "\n",
    "import tf_agents as tfa\n",
    "\n",
    "from kaggle_environments import evaluate, make\n",
    "from kaggle_environments.envs.halite.helpers import *\n",
    "\n",
    "from tf_agents.environments import py_environment\n",
    "from tf_agents.environments import tf_py_environment\n",
    "from tf_agents.trajectories import time_step as ts"
   ]
  },
  {
   "cell_type": "markdown",
   "metadata": {},
   "source": [
    "# Hyperparameters"
   ]
  },
  {
   "cell_type": "code",
   "execution_count": 2,
   "metadata": {},
   "outputs": [],
   "source": [
    "num_iterations = 10000 # @param {type:\"integer\"}\n",
    "\n",
    "initial_collect_steps = 1000  # @param {type:\"integer\"} \n",
    "collect_steps_per_iteration = 10  # @param {type:\"integer\"}\n",
    "replay_buffer_max_length = 100000  # @param {type:\"integer\"}\n",
    "\n",
    "batch_size = 64  # @param {type:\"integer\"}\n",
    "learning_rate = 1e-3  # @param {type:\"number\"}\n",
    "log_interval = 200  # @param {type:\"integer\"}\n",
    "\n",
    "num_eval_episodes = 10  # @param {type:\"integer\"}\n",
    "eval_interval = 1000  # @param {type:\"integer\"}"
   ]
  },
  {
   "cell_type": "markdown",
   "metadata": {},
   "source": [
    "# Environment"
   ]
  },
  {
   "cell_type": "code",
   "execution_count": 3,
   "metadata": {},
   "outputs": [],
   "source": [
    "class HaliteWrapper(py_environment.PyEnvironment):\n",
    "    def __init__(self):\n",
    "        \n",
    "        # créer un environnement : où récupérer la config ? la renseigner directement ici ? \n",
    "        self._board_size = 7\n",
    "        self._agent_count = 1\n",
    "        self._max_turns = 20\n",
    "        self._starting_halite = 2500\n",
    "        self.env = make(\"halite\", configuration={'episodeSteps':self._max_turns, 'size':self._board_size, \n",
    "                                                 'startingHalite':self._starting_halite})\n",
    "        self.state = self.env.reset(num_agents=self._agent_count)\n",
    "        \n",
    "        self.obs = self.state[0].observation\n",
    "        self.config = self.env.configuration\n",
    "        self.max_cell_halite = self.config.maxCellHalite\n",
    "        self.board = Board(self.obs, self.config)\n",
    "                \n",
    "        # observation_spec : va dépendre de la \"vision\" que l'on donne au vaisseau du plateau\n",
    "        # action_spec \n",
    "#         self._channels = 2\n",
    "        self._observation_spec = tfa.specs.BoundedArraySpec(\n",
    "            shape=self.get_observation(self.board).shape, \n",
    "            dtype=np.int64, maximum=None, minimum=None)\n",
    "        \n",
    "        self._action_def = {0: None,\n",
    "                            1: ShipAction.NORTH,\n",
    "                            2: ShipAction.EAST,\n",
    "                            3: ShipAction.SOUTH,\n",
    "                            4: ShipAction.WEST,\n",
    "#                             5: ShipAction.CONVERT\n",
    "                           }\n",
    "        self._action_spec = tfa.specs.BoundedArraySpec(shape=(), dtype=np.int32, maximum=len(self._action_def)-1, minimum=0)\n",
    "        \n",
    "        # définir des variables de suivi : compteur de tours, halite au tour précédent ... En fonction des besoins\n",
    "        # ATTENTION : Le turn counter indique ici le numéro du tour qui sera lancé au prochain step, pas le numéro du dernier tour résolu \n",
    "        self.turn_counter = 1\n",
    "        self.previous_cargo_halite = 0\n",
    "    \n",
    "    # Ajouter la position du vaisseau comme entrée ? \n",
    "    # Dans la fonction, ne pas utiliser self.board afin de pouvoir y faire appel en dehors de la classe\n",
    "    #  plutôt à mettre dans un helper comme suggéré dans le post Kaggle\n",
    "    def get_observation(self, board):\n",
    "        size = board.configuration.size\n",
    "        me = board.current_player\n",
    "\n",
    "#         ships = np.zeros((1, size, size))\n",
    "#         ship_cargo = np.zeros((1, size, size))\n",
    "#         bases = np.zeros((1, size, size))\n",
    "\n",
    "        # Possible de diviser par 1000 ou par max_halite afin d'avoir une valeur plus proche de 1\n",
    "        halite = np.array(board.observation['halite']).reshape(1, size, size)\n",
    "        halite = np.tile(halite, (3,3))\n",
    "        \n",
    "        # Reduce halite map to ship surroundings \n",
    "        ship = board.ships['0-1']\n",
    "         # convert Halite SDK position format to np matrix \n",
    "        row = size - 1 - ship.position[1] + size\n",
    "        col = ship.position[0] + size\n",
    "        radius = 3 \n",
    "        halite_radius = halite[0, row-radius+1:row+radius, col-radius+1:col+radius]\n",
    "        \n",
    "#         for iid, ship in board.ships.items():\n",
    "#             # ATTENTION : Logique de me = board.current_player robuste ? \n",
    "#             ships[0, ship.position[1], ship.position[0]] = 1 if ship.player_id == me.id else -1\n",
    "#             # Idem, possible de diviser le halite en cargo\n",
    "#             ship_cargo[0, ship.position[1], ship.position[0]] = ship.halite\n",
    "\n",
    "#         for iid, yard in board.shipyards.items():\n",
    "#             bases[0, yard.position[1], yard.position[0]] = 1 if yard.player_id == me.id else -1\n",
    "        \n",
    "        # On pourra ajouter ships, ship_cargo et base \n",
    "        observation = np.concatenate([halite_radius], axis=0)\n",
    "        observation = np.array(observation, dtype='int64')\n",
    "        return observation\n",
    "    \n",
    "    def observation_spec(self):\n",
    "        return self._observation_spec\n",
    "    \n",
    "    def action_spec(self):\n",
    "        return self._action_spec\n",
    "    \n",
    "    def _reset(self):\n",
    "        # créer un nouvel environnement \n",
    "        # board \n",
    "        self.env = make(\"halite\", configuration={'episodeSteps':self._max_turns, 'size':self._board_size, \n",
    "                                                 'startingHalite':self._starting_halite})\n",
    "        self.state = self.env.reset(num_agents=self._agent_count)\n",
    "        \n",
    "        self.obs = self.state[0].observation\n",
    "        self.config = self.env.configuration\n",
    "        self.max_cell_halite = self.config.maxCellHalite\n",
    "        self.board = Board(self.obs, self.config)\n",
    "        \n",
    "        # réinitialiser TOUS les compteurs déclarés dans l'init \n",
    "        self.turn_counter = 1\n",
    "        self.previous_cargo_halite = 0 \n",
    "        \n",
    "        # renvoyer le time_step initial \n",
    "        \n",
    "        return_object = ts.restart(self.get_observation(self.board))\n",
    "        \n",
    "#         return_object = ts.restart(np.array(self.state_history, dtype=np.int32))\n",
    "        \n",
    "        return return_object\n",
    "    \n",
    "    def _step(self, action):\n",
    "        \n",
    "        # si le jeu est terminé, renvoyer reset() \n",
    "        if self.turn_counter > self._max_turns:\n",
    "            return self._reset()\n",
    "        \n",
    "        # Prendre l'action et l'appliquer au plateau\n",
    "        action = int(action) # nécessaire ? normalement on a déjà fixé que c'était un int \n",
    "        self.board.ships['0-1'].next_action = self._action_def[action]\n",
    "        self.board = self.board.next()\n",
    "        \n",
    "        # Calculer le reward obtenu par l'action \n",
    "        reward = self.board.ships['0-1'].halite - self.previous_cargo_halite \n",
    "        \n",
    "        # Update all counters \n",
    "        self.turn_counter += 1\n",
    "        self.previous_cargo_halite = self.board.ships['0-1'].halite\n",
    "        \n",
    "        # prendre l'action, la transformer en int et l'appliquer au plateau \n",
    "        # board = board.next() : mettre à jour le plateau \n",
    "        # calculer le reward obtenu par l'action \n",
    "        # retourner la nouvelle observation \n",
    "        #  sous forme de time_step intermédiaire si le tour ne finit pas le jeu\n",
    "        #  sous forme de time_step finale autrement \n",
    "        \n",
    "        # final\n",
    "        if self.turn_counter >= self._max_turns:\n",
    "            return_object = ts.termination(self.get_observation(self.board), reward)\n",
    "            return return_object\n",
    "        else:\n",
    "            return_object = ts.transition(self.get_observation(self.board), reward, discount=1.0)\n",
    "            return return_object"
   ]
  },
  {
   "cell_type": "code",
   "execution_count": 4,
   "metadata": {},
   "outputs": [],
   "source": [
    "# Pour tester le fonctionnement \n",
    "# train_py_env = HaliteWrapper()\n",
    "# print(train_py_env.board)\n",
    "# train_py_env._step(action=0)"
   ]
  },
  {
   "cell_type": "code",
   "execution_count": 5,
   "metadata": {},
   "outputs": [],
   "source": [
    "train_py_env = HaliteWrapper()\n",
    "eval_py_env = HaliteWrapper()"
   ]
  },
  {
   "cell_type": "code",
   "execution_count": 6,
   "metadata": {},
   "outputs": [],
   "source": [
    "train_env = tf_py_environment.TFPyEnvironment(train_py_env)\n",
    "eval_env = tf_py_environment.TFPyEnvironment(eval_py_env)"
   ]
  },
  {
   "cell_type": "code",
   "execution_count": 7,
   "metadata": {},
   "outputs": [],
   "source": [
    "# Create a q_network based on the observation and action spec (ie, array shapes)\n",
    "# For now, action will be a single command for a single ship \n",
    "from tf_agents.networks import q_network\n",
    "\n",
    "fc_layer_params = (512,512)\n",
    "\n",
    "q_net = q_network.QNetwork(\n",
    "    input_tensor_spec=train_env.observation_spec(),\n",
    "    action_spec=train_env.action_spec(),\n",
    "    fc_layer_params=fc_layer_params)"
   ]
  },
  {
   "cell_type": "code",
   "execution_count": 8,
   "metadata": {},
   "outputs": [],
   "source": [
    "from tf_agents.agents.dqn import dqn_agent\n",
    "from tf_agents.utils import common\n",
    "\n",
    "optimizer = tf.compat.v1.train.AdamOptimizer(learning_rate=learning_rate)\n",
    "\n",
    "train_step_counter = tf.Variable(0)\n",
    "\n",
    "agent = dqn_agent.DqnAgent(\n",
    "    train_env.time_step_spec(),\n",
    "    train_env.action_spec(),\n",
    "    q_network=q_net,\n",
    "    optimizer=optimizer,\n",
    "    td_errors_loss_fn=common.element_wise_squared_loss,\n",
    "    train_step_counter=train_step_counter)\n",
    "\n",
    "agent.initialize()"
   ]
  },
  {
   "cell_type": "code",
   "execution_count": 9,
   "metadata": {},
   "outputs": [],
   "source": [
    "eval_policy = agent.policy\n",
    "collect_policy = agent.collect_policy"
   ]
  },
  {
   "cell_type": "code",
   "execution_count": 10,
   "metadata": {},
   "outputs": [],
   "source": [
    "from tf_agents.policies import random_tf_policy\n",
    "\n",
    "random_policy = random_tf_policy.RandomTFPolicy(train_env.time_step_spec(),\n",
    "                                                train_env.action_spec())"
   ]
  },
  {
   "cell_type": "code",
   "execution_count": 11,
   "metadata": {},
   "outputs": [],
   "source": [
    "def compute_avg_return(environment, policy, num_episodes=10):\n",
    "\n",
    "    total_return = 0.0\n",
    "    for _ in range(num_episodes):\n",
    "        time_step = environment.reset()\n",
    "        episode_return = 0.0\n",
    "\n",
    "        while not time_step.is_last():\n",
    "            action_step = policy.action(time_step)\n",
    "            time_step = environment.step(action_step.action)\n",
    "            episode_return += time_step.reward\n",
    "        total_return += episode_return\n",
    "\n",
    "    avg_return = total_return / num_episodes\n",
    "    return avg_return.numpy()[0]"
   ]
  },
  {
   "cell_type": "code",
   "execution_count": 12,
   "metadata": {},
   "outputs": [
    {
     "data": {
      "text/plain": [
       "29.4"
      ]
     },
     "execution_count": 12,
     "metadata": {},
     "output_type": "execute_result"
    }
   ],
   "source": [
    "compute_avg_return(eval_env, random_policy, num_eval_episodes)"
   ]
  },
  {
   "cell_type": "code",
   "execution_count": 13,
   "metadata": {},
   "outputs": [
    {
     "name": "stdout",
     "output_type": "stream",
     "text": [
      "WARNING:tensorflow:From D:\\Anaconda\\envs\\halite\\lib\\site-packages\\tensorflow\\python\\autograph\\operators\\control_flow.py:1004: ReplayBuffer.get_next (from tf_agents.replay_buffers.replay_buffer) is deprecated and will be removed in a future version.\n",
      "Instructions for updating:\n",
      "Use `as_dataset(..., single_deterministic_pass=False) instead.\n"
     ]
    },
    {
     "name": "stderr",
     "output_type": "stream",
     "text": [
      "WARNING:tensorflow:From D:\\Anaconda\\envs\\halite\\lib\\site-packages\\tensorflow\\python\\autograph\\operators\\control_flow.py:1004: ReplayBuffer.get_next (from tf_agents.replay_buffers.replay_buffer) is deprecated and will be removed in a future version.\n",
      "Instructions for updating:\n",
      "Use `as_dataset(..., single_deterministic_pass=False) instead.\n"
     ]
    },
    {
     "data": {
      "text/plain": [
       "<PrefetchDataset shapes: (Trajectory(step_type=(64, 2), observation=(64, 2, 5, 5), action=(64, 2), policy_info=(), next_step_type=(64, 2), reward=(64, 2), discount=(64, 2)), BufferInfo(ids=(64, 2), probabilities=(64,))), types: (Trajectory(step_type=tf.int32, observation=tf.int64, action=tf.int32, policy_info=(), next_step_type=tf.int32, reward=tf.float32, discount=tf.float32), BufferInfo(ids=tf.int64, probabilities=tf.float32))>"
      ]
     },
     "execution_count": 13,
     "metadata": {},
     "output_type": "execute_result"
    }
   ],
   "source": [
    "from tf_agents.replay_buffers import tf_uniform_replay_buffer\n",
    "\n",
    "replay_buffer = tf_uniform_replay_buffer.TFUniformReplayBuffer(\n",
    "    data_spec=agent.collect_data_spec,\n",
    "    batch_size=train_env.batch_size,\n",
    "    max_length=replay_buffer_max_length)\n",
    "\n",
    "from tf_agents.trajectories import trajectory\n",
    "\n",
    "def collect_step(environment, policy, buffer):\n",
    "    time_step = environment.current_time_step()\n",
    "    action_step = policy.action(time_step)\n",
    "    next_time_step = environment.step(action_step.action)\n",
    "    traj = trajectory.from_transition(time_step, action_step, next_time_step)\n",
    "\n",
    "    # Add trajectory to the replay buffer\n",
    "    buffer.add_batch(traj)\n",
    "\n",
    "def collect_data(env, policy, buffer, steps):\n",
    "    for _ in range(steps):\n",
    "        collect_step(env, policy, buffer)\n",
    "\n",
    "collect_data(train_env, random_policy, replay_buffer, initial_collect_steps)\n",
    "\n",
    "# Dataset generates trajectories with shape [Bx2x...]\n",
    "dataset = replay_buffer.as_dataset(\n",
    "    num_parallel_calls=3, \n",
    "    sample_batch_size=batch_size, \n",
    "    num_steps=2).prefetch(3)\n",
    "\n",
    "dataset"
   ]
  },
  {
   "cell_type": "code",
   "execution_count": 14,
   "metadata": {},
   "outputs": [
    {
     "name": "stdout",
     "output_type": "stream",
     "text": [
      "<tensorflow.python.data.ops.iterator_ops.OwnedIterator object at 0x000001580490B308>\n"
     ]
    }
   ],
   "source": [
    "iterator = iter(dataset)\n",
    "\n",
    "print(iterator)"
   ]
  },
  {
   "cell_type": "code",
   "execution_count": 15,
   "metadata": {},
   "outputs": [
    {
     "name": "stdout",
     "output_type": "stream",
     "text": [
      "WARNING:tensorflow:From D:\\Anaconda\\envs\\halite\\lib\\site-packages\\tensorflow\\python\\util\\dispatch.py:201: calling foldr_v2 (from tensorflow.python.ops.functional_ops) with back_prop=False is deprecated and will be removed in a future version.\n",
      "Instructions for updating:\n",
      "back_prop=False is deprecated. Consider using tf.stop_gradient instead.\n",
      "Instead of:\n",
      "results = tf.foldr(fn, elems, back_prop=False)\n",
      "Use:\n",
      "results = tf.nest.map_structure(tf.stop_gradient, tf.foldr(fn, elems))\n"
     ]
    },
    {
     "name": "stderr",
     "output_type": "stream",
     "text": [
      "WARNING:tensorflow:From D:\\Anaconda\\envs\\halite\\lib\\site-packages\\tensorflow\\python\\util\\dispatch.py:201: calling foldr_v2 (from tensorflow.python.ops.functional_ops) with back_prop=False is deprecated and will be removed in a future version.\n",
      "Instructions for updating:\n",
      "back_prop=False is deprecated. Consider using tf.stop_gradient instead.\n",
      "Instead of:\n",
      "results = tf.foldr(fn, elems, back_prop=False)\n",
      "Use:\n",
      "results = tf.nest.map_structure(tf.stop_gradient, tf.foldr(fn, elems))\n"
     ]
    },
    {
     "name": "stdout",
     "output_type": "stream",
     "text": [
      "step = 200: loss = 11441502.0\n",
      "step = 400: loss = 102957328.0\n",
      "step = 600: loss = 67968080.0\n",
      "step = 800: loss = 49735984.0\n",
      "step = 1000: loss = 10059871.0\n",
      "step = 1000: Average Return = 0.20000000298023224\n",
      "step = 1200: loss = 7197357.0\n",
      "step = 1400: loss = 1267461.75\n",
      "step = 1600: loss = 1181060.75\n",
      "step = 1800: loss = 356858.6875\n",
      "step = 2000: loss = 385472.0\n",
      "step = 2000: Average Return = 2.0\n",
      "step = 2200: loss = 396004.28125\n",
      "step = 2400: loss = 214724.9375\n",
      "step = 2600: loss = 104323.34375\n",
      "step = 2800: loss = 18886.091796875\n",
      "step = 3000: loss = 49315.5078125\n",
      "step = 3000: Average Return = 0.0\n",
      "step = 3200: loss = 110226.6171875\n",
      "step = 3400: loss = 24770.689453125\n",
      "step = 3600: loss = 24035.53515625\n",
      "step = 3800: loss = 28633.802734375\n",
      "step = 4000: loss = 40346.5703125\n",
      "step = 4000: Average Return = 44.79999923706055\n",
      "step = 4200: loss = 17348.2265625\n",
      "step = 4400: loss = 14877.9404296875\n",
      "step = 4600: loss = 18832.1875\n",
      "step = 4800: loss = 3771.502685546875\n",
      "step = 5000: loss = 18579.49609375\n",
      "step = 5000: Average Return = 32.400001525878906\n",
      "step = 5200: loss = 6254.6416015625\n",
      "step = 5400: loss = 5420.1806640625\n",
      "step = 5600: loss = 3374.52783203125\n",
      "step = 5800: loss = 9763.177734375\n",
      "step = 6000: loss = 8125.44873046875\n",
      "step = 6000: Average Return = 73.69999694824219\n",
      "step = 6200: loss = 2741.8330078125\n",
      "step = 6400: loss = 6636.56494140625\n",
      "step = 6600: loss = 6036.0732421875\n",
      "step = 6800: loss = 4409.1240234375\n",
      "step = 7000: loss = 10572.716796875\n",
      "step = 7000: Average Return = 142.6999969482422\n",
      "step = 7200: loss = 3630.1767578125\n",
      "step = 7400: loss = 6400.42333984375\n",
      "step = 7600: loss = 4457.39013671875\n",
      "step = 7800: loss = 5679.1640625\n",
      "step = 8000: loss = 4576.32470703125\n",
      "step = 8000: Average Return = 288.70001220703125\n",
      "step = 8200: loss = 14669.439453125\n",
      "step = 8400: loss = 2964.887939453125\n",
      "step = 8600: loss = 4066.4287109375\n",
      "step = 8800: loss = 3917.079345703125\n",
      "step = 9000: loss = 16602.537109375\n",
      "step = 9000: Average Return = 177.39999389648438\n",
      "step = 9200: loss = 13103.4853515625\n",
      "step = 9400: loss = 13736.7822265625\n",
      "step = 9600: loss = 5575.6142578125\n",
      "step = 9800: loss = 13591.783203125\n",
      "step = 10000: loss = 6964.14111328125\n",
      "step = 10000: Average Return = 122.9000015258789\n"
     ]
    }
   ],
   "source": [
    "#@test {\"skip\": true}\n",
    "try:\n",
    "    %%time\n",
    "except:\n",
    "    pass\n",
    "\n",
    "# (Optional) Optimize by wrapping some of the code in a graph using TF function.\n",
    "agent.train = common.function(agent.train)\n",
    "\n",
    "# Reset the train step\n",
    "agent.train_step_counter.assign(0)\n",
    "\n",
    "# Evaluate the agent's policy once before training.\n",
    "avg_return = compute_avg_return(eval_env, agent.policy, num_eval_episodes)\n",
    "returns = [avg_return]\n",
    "\n",
    "for _ in range(num_iterations):\n",
    "\n",
    "    # Collect a few steps using collect_policy and save to the replay buffer.\n",
    "    collect_data(train_env, agent.collect_policy, replay_buffer, collect_steps_per_iteration)\n",
    "\n",
    "    # Sample a batch of data from the buffer and update the agent's network.\n",
    "    experience, unused_info = next(iterator)\n",
    "    train_loss = agent.train(experience).loss\n",
    "\n",
    "    step = agent.train_step_counter.numpy()\n",
    "\n",
    "    if step % log_interval == 0:\n",
    "        print('step = {0}: loss = {1}'.format(step, train_loss))\n",
    "\n",
    "    if step % eval_interval == 0:\n",
    "        avg_return = compute_avg_return(eval_env, agent.policy, num_eval_episodes)\n",
    "        print('step = {0}: Average Return = {1}'.format(step, avg_return))\n",
    "        returns.append(avg_return)"
   ]
  },
  {
   "cell_type": "code",
   "execution_count": 16,
   "metadata": {},
   "outputs": [
    {
     "data": {
      "text/plain": [
       "(-14.435000610351564, 250.0)"
      ]
     },
     "execution_count": 16,
     "metadata": {},
     "output_type": "execute_result"
    },
    {
     "data": {
      "image/png": "[encoded data removed]",
      "text/plain": [
       "<Figure size 432x288 with 1 Axes>"
      ]
     },
     "metadata": {
      "needs_background": "light"
     },
     "output_type": "display_data"
    }
   ],
   "source": [
    "#@test {\"skip\": true}\n",
    "import matplotlib.pyplot as plt\n",
    "\n",
    "iterations = range(0, num_iterations + 1, eval_interval)\n",
    "plt.plot(iterations, returns)\n",
    "plt.ylabel('Average Return')\n",
    "plt.xlabel('Iterations')\n",
    "plt.ylim(top=250)"
   ]
  },
  {
   "cell_type": "code",
   "execution_count": 21,
   "metadata": {},
   "outputs": [
    {
     "name": "stdout",
     "output_type": "stream",
     "text": [
      "| 1 | 3 | 0 | 0 | 0 | 3 | 1 |\n",
      "| 0 | 0 | 0 | 1 | 0 | 0 | 0 |\n",
      "| 0 | 0 | 0 | 0 | 0 | 0 | 0 |\n",
      "| 0 | 0 | 3 |a0 | 3 | 0 | 0 |\n",
      "| 0 | 0 | 0 | 0 | 0 | 0 | 0 |\n",
      "| 0 | 0 | 0 | 1 | 0 | 0 | 0 |\n",
      "| 1 | 3 | 0 | 0 | 0 | 3 | 1 |\n",
      "\n",
      "WEST\n",
      "| 1 | 3 | 0 | 0 | 0 | 3 | 1 |\n",
      "| 0 | 0 | 0 | 1 | 0 | 0 | 0 |\n",
      "| 0 | 0 | 0 | 0 | 0 | 0 | 0 |\n",
      "| 0 | 0 |a3 | 0 | 3 | 0 | 0 |\n",
      "| 0 | 0 | 0 | 0 | 0 | 0 | 0 |\n",
      "| 0 | 0 | 0 | 1 | 0 | 0 | 0 |\n",
      "| 1 | 3 | 0 | 0 | 0 | 3 | 1 |\n",
      "\n",
      "None\n",
      "| 1 | 3 | 0 | 0 | 0 | 3 | 1 |\n",
      "| 0 | 0 | 0 | 1 | 0 | 0 | 0 |\n",
      "| 0 | 0 | 0 | 0 | 0 | 0 | 0 |\n",
      "| 0 | 0 |a2 | 0 | 3 | 0 | 0 |\n",
      "| 0 | 0 | 0 | 0 | 0 | 0 | 0 |\n",
      "| 0 | 0 | 0 | 1 | 0 | 0 | 0 |\n",
      "| 1 | 3 | 0 | 0 | 0 | 3 | 1 |\n",
      "\n",
      "None\n",
      "| 1 | 3 | 0 | 0 | 0 | 3 | 1 |\n",
      "| 0 | 0 | 0 | 1 | 0 | 0 | 0 |\n",
      "| 0 | 0 | 0 | 0 | 0 | 0 | 0 |\n",
      "| 0 | 0 |a1 | 0 | 3 | 0 | 0 |\n",
      "| 0 | 0 | 0 | 0 | 0 | 0 | 0 |\n",
      "| 0 | 0 | 0 | 1 | 0 | 0 | 0 |\n",
      "| 1 | 3 | 0 | 0 | 0 | 3 | 1 |\n",
      "\n",
      "None\n",
      "| 1 | 3 | 0 | 0 | 0 | 3 | 1 |\n",
      "| 0 | 0 | 0 | 1 | 0 | 0 | 0 |\n",
      "| 0 | 0 | 0 | 0 | 0 | 0 | 0 |\n",
      "| 0 | 0 |a1 | 0 | 3 | 0 | 0 |\n",
      "| 0 | 0 | 0 | 0 | 0 | 0 | 0 |\n",
      "| 0 | 0 | 0 | 1 | 0 | 0 | 0 |\n",
      "| 1 | 3 | 0 | 0 | 0 | 3 | 1 |\n",
      "\n",
      "None\n",
      "| 1 | 3 | 0 | 0 | 0 | 3 | 1 |\n",
      "| 0 | 0 | 0 | 1 | 0 | 0 | 0 |\n",
      "| 0 | 0 | 0 | 0 | 0 | 0 | 0 |\n",
      "| 0 | 0 |a1 | 0 | 3 | 0 | 0 |\n",
      "| 0 | 0 | 0 | 0 | 0 | 0 | 0 |\n",
      "| 0 | 0 | 0 | 1 | 0 | 0 | 0 |\n",
      "| 1 | 3 | 0 | 0 | 0 | 3 | 1 |\n",
      "\n",
      "None\n",
      "| 1 | 3 | 0 | 0 | 0 | 3 | 1 |\n",
      "| 0 | 0 | 0 | 1 | 0 | 0 | 0 |\n",
      "| 0 | 0 | 0 | 0 | 0 | 0 | 0 |\n",
      "| 0 | 0 |a0 | 0 | 3 | 0 | 0 |\n",
      "| 0 | 0 | 0 | 0 | 0 | 0 | 0 |\n",
      "| 0 | 0 | 0 | 1 | 0 | 0 | 0 |\n",
      "| 1 | 3 | 0 | 0 | 0 | 3 | 1 |\n",
      "\n",
      "None\n",
      "| 1 | 3 | 0 | 0 | 0 | 3 | 1 |\n",
      "| 0 | 0 | 0 | 1 | 0 | 0 | 0 |\n",
      "| 0 | 0 | 0 | 0 | 0 | 0 | 0 |\n",
      "| 0 | 0 |a0 | 0 | 3 | 0 | 0 |\n",
      "| 0 | 0 | 0 | 0 | 0 | 0 | 0 |\n",
      "| 0 | 0 | 0 | 1 | 0 | 0 | 0 |\n",
      "| 1 | 3 | 0 | 0 | 0 | 3 | 1 |\n",
      "\n",
      "None\n",
      "| 1 | 4 | 0 | 0 | 0 | 4 | 1 |\n",
      "| 0 | 0 | 0 | 1 | 0 | 0 | 0 |\n",
      "| 0 | 0 | 0 | 0 | 0 | 0 | 0 |\n",
      "| 0 | 0 |a0 | 0 | 3 | 0 | 0 |\n",
      "| 0 | 0 | 0 | 0 | 0 | 0 | 0 |\n",
      "| 0 | 0 | 0 | 1 | 0 | 0 | 0 |\n",
      "| 1 | 4 | 0 | 0 | 0 | 4 | 1 |\n",
      "\n",
      "None\n",
      "| 1 | 4 | 0 | 0 | 0 | 4 | 1 |\n",
      "| 0 | 0 | 0 | 1 | 0 | 0 | 0 |\n",
      "| 0 | 0 | 0 | 0 | 0 | 0 | 0 |\n",
      "| 0 | 0 |a0 | 0 | 3 | 0 | 0 |\n",
      "| 0 | 0 | 0 | 0 | 0 | 0 | 0 |\n",
      "| 0 | 0 | 0 | 1 | 0 | 0 | 0 |\n",
      "| 1 | 4 | 0 | 0 | 0 | 4 | 1 |\n",
      "\n",
      "None\n",
      "| 1 | 4 | 0 | 0 | 0 | 4 | 1 |\n",
      "| 0 | 0 | 0 | 1 | 0 | 0 | 0 |\n",
      "| 0 | 0 | 0 | 0 | 0 | 0 | 0 |\n",
      "| 0 | 0 |a0 | 0 | 4 | 0 | 0 |\n",
      "| 0 | 0 | 0 | 0 | 0 | 0 | 0 |\n",
      "| 0 | 0 | 0 | 1 | 0 | 0 | 0 |\n",
      "| 1 | 4 | 0 | 0 | 0 | 4 | 1 |\n",
      "\n",
      "None\n",
      "| 1 | 4 | 0 | 0 | 0 | 4 | 1 |\n",
      "| 0 | 0 | 0 | 1 | 0 | 0 | 0 |\n",
      "| 0 | 0 | 0 | 0 | 0 | 0 | 0 |\n",
      "| 0 | 0 |a0 | 0 | 4 | 0 | 0 |\n",
      "| 0 | 0 | 0 | 0 | 0 | 0 | 0 |\n",
      "| 0 | 0 | 0 | 1 | 0 | 0 | 0 |\n",
      "| 1 | 4 | 0 | 0 | 0 | 4 | 1 |\n",
      "\n",
      "None\n",
      "| 1 | 4 | 0 | 0 | 0 | 4 | 1 |\n",
      "| 0 | 0 | 0 | 2 | 0 | 0 | 0 |\n",
      "| 0 | 0 | 0 | 0 | 0 | 0 | 0 |\n",
      "| 0 | 0 |a0 | 0 | 4 | 0 | 0 |\n",
      "| 0 | 0 | 0 | 0 | 0 | 0 | 0 |\n",
      "| 0 | 0 | 0 | 2 | 0 | 0 | 0 |\n",
      "| 1 | 4 | 0 | 0 | 0 | 4 | 1 |\n",
      "\n",
      "None\n",
      "| 1 | 4 | 0 | 0 | 0 | 4 | 1 |\n",
      "| 0 | 0 | 0 | 2 | 0 | 0 | 0 |\n",
      "| 0 | 0 | 0 | 0 | 0 | 0 | 0 |\n",
      "| 0 | 0 |a0 | 0 | 4 | 0 | 0 |\n",
      "| 0 | 0 | 0 | 0 | 0 | 0 | 0 |\n",
      "| 0 | 0 | 0 | 2 | 0 | 0 | 0 |\n",
      "| 1 | 4 | 0 | 0 | 0 | 4 | 1 |\n",
      "\n",
      "None\n",
      "| 1 | 4 | 0 | 0 | 0 | 4 | 1 |\n",
      "| 0 | 0 | 0 | 2 | 0 | 0 | 0 |\n",
      "| 0 | 0 | 0 | 0 | 0 | 0 | 0 |\n",
      "| 0 | 0 |a0 | 0 | 4 | 0 | 0 |\n",
      "| 0 | 0 | 0 | 0 | 0 | 0 | 0 |\n",
      "| 0 | 0 | 0 | 2 | 0 | 0 | 0 |\n",
      "| 1 | 4 | 0 | 0 | 0 | 4 | 1 |\n",
      "\n",
      "None\n",
      "| 1 | 4 | 0 | 0 | 0 | 4 | 1 |\n",
      "| 0 | 0 | 0 | 2 | 0 | 0 | 0 |\n",
      "| 0 | 0 | 0 | 0 | 0 | 0 | 0 |\n",
      "| 0 | 0 |a0 | 0 | 4 | 0 | 0 |\n",
      "| 0 | 0 | 0 | 0 | 0 | 0 | 0 |\n",
      "| 0 | 0 | 0 | 2 | 0 | 0 | 0 |\n",
      "| 1 | 4 | 0 | 0 | 0 | 4 | 1 |\n",
      "\n",
      "EAST\n",
      "| 1 | 4 | 0 | 0 | 0 | 4 | 1 |\n",
      "| 0 | 0 | 0 | 2 | 0 | 0 | 0 |\n",
      "| 0 | 0 | 0 | 0 | 0 | 0 | 0 |\n",
      "| 0 | 0 | 0 |a0 | 4 | 0 | 0 |\n",
      "| 0 | 0 | 0 | 0 | 0 | 0 | 0 |\n",
      "| 0 | 0 | 0 | 2 | 0 | 0 | 0 |\n",
      "| 1 | 4 | 0 | 0 | 0 | 4 | 1 |\n",
      "\n",
      "EAST\n",
      "| 1 | 4 | 0 | 0 | 0 | 4 | 1 |\n",
      "| 0 | 0 | 0 | 2 | 0 | 0 | 0 |\n",
      "| 0 | 0 | 0 | 0 | 0 | 0 | 0 |\n",
      "| 0 | 0 | 0 | 0 |a4 | 0 | 0 |\n",
      "| 0 | 0 | 0 | 0 | 0 | 0 | 0 |\n",
      "| 0 | 0 | 0 | 2 | 0 | 0 | 0 |\n",
      "| 1 | 4 | 0 | 0 | 0 | 4 | 1 |\n",
      "\n",
      "None\n",
      "| 1 | 4 | 0 | 0 | 0 | 4 | 1 |\n",
      "| 0 | 0 | 0 | 2 | 0 | 0 | 0 |\n",
      "| 0 | 0 | 0 | 0 | 0 | 0 | 0 |\n",
      "| 0 | 0 | 0 | 1 |a3 | 0 | 0 |\n",
      "| 0 | 0 | 0 | 0 | 0 | 0 | 0 |\n",
      "| 0 | 0 | 0 | 2 | 0 | 0 | 0 |\n",
      "| 1 | 4 | 0 | 0 | 0 | 4 | 1 |\n",
      "\n",
      "None\n",
      "| 1 | 5 | 0 | 0 | 0 | 5 | 1 |\n",
      "| 0 | 0 | 0 | 2 | 0 | 0 | 0 |\n",
      "| 0 | 0 | 0 | 0 | 0 | 0 | 0 |\n",
      "| 0 | 0 | 0 | 1 |a2 | 0 | 0 |\n",
      "| 0 | 0 | 0 | 0 | 0 | 0 | 0 |\n",
      "| 0 | 0 | 0 | 2 | 0 | 0 | 0 |\n",
      "| 1 | 5 | 0 | 0 | 0 | 5 | 1 |\n",
      "\n"
     ]
    }
   ],
   "source": [
    "time_step = eval_env.reset()\n",
    "print(eval_py_env.board)\n",
    "\n",
    "while not time_step.is_last():\n",
    "    action_step = eval_policy.action(time_step)\n",
    "    print(eval_py_env._action_def[int(action_step.action)])\n",
    "    time_step = eval_env.step(action_step.action)\n",
    "    print(eval_py_env.board)"
   ]
  },
  {
   "cell_type": "code",
   "execution_count": null,
   "metadata": {},
   "outputs": [],
   "source": []
  },
  {
   "cell_type": "code",
   "execution_count": null,
   "metadata": {},
   "outputs": [],
   "source": []
  },
  {
   "cell_type": "code",
   "execution_count": null,
   "metadata": {},
   "outputs": [],
   "source": []
  },
  {
   "cell_type": "code",
   "execution_count": 11,
   "metadata": {},
   "outputs": [],
   "source": [
    "steps = train_py_env.env.run(['random', 'random'])"
   ]
  },
  {
   "cell_type": "code",
   "execution_count": null,
   "metadata": {},
   "outputs": [],
   "source": [
    "# possible de faire un step sur l'environnement Kaggle \n",
    "env.step(actions={'0-1': 'NORTH'})"
   ]
  },
  {
   "cell_type": "code",
   "execution_count": 29,
   "metadata": {},
   "outputs": [
    {
     "data": {
      "text/plain": [
       "0"
      ]
     },
     "execution_count": 29,
     "metadata": {},
     "output_type": "execute_result"
    }
   ],
   "source": [
    "# Pour obtenir l'id du joueur actuel\n",
    "obs.player"
   ]
  },
  {
   "cell_type": "code",
   "execution_count": null,
   "metadata": {},
   "outputs": [],
   "source": [
    "# Possible de définir un agent qui prend en entrée un board plutot que obs et config\n",
    "# On voit qu'on peut aussi fournir à l'environnement Kaggle l'agent sous forme de fonction plutôt que de fichier \n",
    "\n",
    "@board_agent\n",
    "def move_ships_north_agent(board):\n",
    "    for ship in board.current_player.ships:\n",
    "        ship.next_action = ShipAction.NORTH\n",
    "\n",
    "env.reset(2)\n",
    "env.run([move_ships_north_agent, \"random\"])\n",
    "env.render(mode=\"ipython\", width=500, height=450)"
   ]
  },
  {
   "cell_type": "code",
   "execution_count": null,
   "metadata": {},
   "outputs": [],
   "source": []
  }
 ],
 "metadata": {
  "kernelspec": {
   "display_name": "Halite (Python 3.7, Tensorflow 2.3)",
   "language": "python",
   "name": "halite"
  },
  "language_info": {
   "codemirror_mode": {
    "name": "ipython",
    "version": 3
   },
   "file_extension": ".py",
   "mimetype": "text/x-python",
   "name": "python",
   "nbconvert_exporter": "python",
   "pygments_lexer": "ipython3",
   "version": "3.7.9"
  }
 },
 "nbformat": 4,
 "nbformat_minor": 4
}
